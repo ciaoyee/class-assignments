{
 "cells": [
  {
   "cell_type": "markdown",
   "metadata": {},
   "source": [
    "## Cocoli Data Exercise\n",
    "What does each row in cocoli.txt represent?\n",
    "\n",
    "    Each row is basically synonymous with a single record of a tree.\n",
    "    \n",
    "What does each row in cocolisp.txt represent?\n",
    "\n",
    "    Each row represents a species code."
   ]
  },
  {
   "cell_type": "markdown",
   "metadata": {},
   "source": [
    "grep 000011 cocoli.txt to get to the file\n",
    "\n",
    "mult2 refers to the number of stems at the date2, & you can get the diameters/sizes of each of the stems if you go to mult2.txt\n",
    "\n",
    "dbh2 refers to the diameter at breast height of the tree (so the biggest stem = trunk)?\n",
    "\n",
    "find genus & species\n",
    "grep for species code in cocolisp.txt\n",
    "\n",
    "genus & species name is:\n",
    "Calycophyllum\tcandidissimum\tRubiaceae"
   ]
  },
  {
   "cell_type": "markdown",
   "metadata": {},
   "source": [
    "Individual 00001:\n",
    "    Has kept growing since date1\n",
    "    \n",
    "Individual 000029:\n",
    "    Has died since date1"
   ]
  },
  {
   "cell_type": "markdown",
   "metadata": {},
   "source": [
    "Interesting questions\n",
    "\n",
    "    B/c there are 2 measurements of growth, did species grow more between date1 & date2 or date2 & date3?\n",
    "    What is the relationship between dbh of tree and stem diameter?\n",
    "    Given the location, which species have grown the quickest in the same time interval? (so do plants in the drier areas grow more slowly?)\n",
    "    Which genus has the highest rate of growth?\n",
    "    "
   ]
  },
  {
   "cell_type": "markdown",
   "metadata": {},
   "source": [
    "Which genus is the most species rich genus?\n",
    "    \n",
    "    piper is the most species rich\n",
    "    sed 's/\\s/,/g' cocolisp.txt | cut -d \",\" -f 2 | sort | uniq -c | sort -n\n",
    "\n",
    "How many genera only have one species represented in the forest?\n",
    "\n",
    "    99 genera only have one species \n",
    "    sed 's/\\s/,/g' cocolisp.txt | cut -d \",\" -f 2 | sort | uniq -c | sort -n | grep -w \"1\" | wc -l\n",
    "    If you don't do the first sort there's a possibility that the genera aren't sorted properly and if there are 2 listings of the same genera w/ something listed in b/w the 2, the uniq might count the 2 same ones as 2 different ones\n",
    "    \n"
   ]
  },
  {
   "cell_type": "markdown",
   "metadata": {},
   "source": [
    "## Guided exploration of the data\n",
    "####Which individual had the highest yearly RGR between 1994­1998? (Note: Remember that in python, dictionaries are unordered collections.) How can you sort this?\n",
    "To which species does this individual belong?\n",
    "\n",
    "import the data\n",
    "Start a for loop that will read every line in the data file\n",
    "Build empty dictionaries \n",
    "Give empty keys\n"
   ]
  },
  {
   "cell_type": "code",
   "execution_count": null,
   "metadata": {
    "collapsed": true
   },
   "outputs": [],
   "source": []
  }
 ],
 "metadata": {
  "anaconda-cloud": {},
  "kernelspec": {
   "display_name": "Python [conda root]",
   "language": "python",
   "name": "conda-root-py"
  },
  "language_info": {
   "codemirror_mode": {
    "name": "ipython",
    "version": 3
   },
   "file_extension": ".py",
   "mimetype": "text/x-python",
   "name": "python",
   "nbconvert_exporter": "python",
   "pygments_lexer": "ipython3",
   "version": "3.5.2"
  }
 },
 "nbformat": 4,
 "nbformat_minor": 2
}
